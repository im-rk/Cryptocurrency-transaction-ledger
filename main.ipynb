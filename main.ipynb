{
 "cells": [
  {
   "cell_type": "code",
   "execution_count": 14,
   "id": "f8ad4e7f-fadb-4aca-851f-e47aece79bc6",
   "metadata": {},
   "outputs": [],
   "source": [
    "import hashlib\n",
    "import time"
   ]
  },
  {
   "cell_type": "code",
   "execution_count": 16,
   "id": "f427cfa8-ea82-45e3-92ac-76cb89fb87f8",
   "metadata": {},
   "outputs": [],
   "source": [
    "class Transaction:\n",
    "    def __init__(self, sender, receiver, amount):\n",
    "        self.sender = sender\n",
    "        self.receiver = receiver\n",
    "        self.amount = amount\n",
    "        self.timestamp = time.time()  #used to record the time\n",
    "    \n",
    "    def __str__(self):\n",
    "        return f\"Sender: {self.sender}, Receiver: {self.receiver}, Amount: {self.amount}, Timestamp: {self.timestamp}\""
   ]
  },
  {
   "cell_type": "code",
   "execution_count": 18,
   "id": "6cd03c17-5607-4ea1-9e68-9a89c171da9f",
   "metadata": {},
   "outputs": [],
   "source": [
    "class Node:\n",
    "    def __init__(self, transaction, previous_hash=\"\"):\n",
    "        self.transaction = transaction\n",
    "        self.previous_hash = previous_hash\n",
    "        self.hash = self.calculate_hash()\n",
    "        self.next = None  # It is a pointer which point to the next node.\n",
    "    \n",
    "    def calculate_hash(self):\n",
    "        data = f\"{self.transaction}{self.previous_hash}{self.transaction.timestamp}\"\n",
    "        return hashlib.sha256(data.encode()).hexdigest()"
   ]
  },
  {
   "cell_type": "code",
   "execution_count": 28,
   "id": "784fcfb2-9784-44ad-9236-6d60c202e0f3",
   "metadata": {},
   "outputs": [],
   "source": [
    "class TransactionLedger:\n",
    "    def __init__(self):\n",
    "        self.head = None  # Point to the start of the linked list\n",
    "        self.tail = None  # Point to the end of the linked list\n",
    "    \n",
    "    def add_transaction(self, sender, receiver, amount):\n",
    "        transaction = Transaction(sender, receiver, amount)\n",
    "        previous_hash = self.tail.hash if self.tail else \"0\"\n",
    "        new_node = Node(transaction, previous_hash)\n",
    "        \n",
    "        #to add the node to the linked list\n",
    "        if self.head is None:\n",
    "            self.head = new_node\n",
    "        else:\n",
    "            self.tail.next = new_node\n",
    "        self.tail = new_node\n",
    "        \n",
    "        print(f\"Transaction added:\\n{transaction}\")\n",
    "    \n",
    "    def verify_chain(self):\n",
    "        current = self.head\n",
    "        while current and current.next:\n",
    "            if current.hash != current.next.previous_hash:\n",
    "                return False  # Chain is broken\n",
    "            current = current.next\n",
    "        return True\n",
    "    \n",
    "    def display_ledger(self):\n",
    "        current = self.head\n",
    "        while current:\n",
    "            print(f\"Transaction: {current.transaction}\\nHash: {current.hash}\\n\")\n",
    "            current = current.next"
   ]
  },
  {
   "cell_type": "code",
   "execution_count": 30,
   "id": "c6be1575-3fca-4d58-abde-f3a3fbb7079c",
   "metadata": {},
   "outputs": [],
   "source": [
    "class TransactionDatabase:\n",
    "    def save_transaction(self, sender, receiver, amount, hash, previous_hash):\n",
    "        transaction_data = {\n",
    "            \"sender\": sender,\n",
    "            \"receiver\": receiver,\n",
    "            \"amount\": amount,\n",
    "            \"timestamp\": time.time(),\n",
    "            \"hash\": hash,\n",
    "            \"previous_hash\": previous_hash\n",
    "        }\n",
    "        collection.insert_one(transaction_data)  # Save to MongoDB\n",
    "        print(\"Transaction saved to database.\")"
   ]
  },
  {
   "cell_type": "code",
   "execution_count": null,
   "id": "e95e0e52-7f09-4235-99dc-17e42f486256",
   "metadata": {},
   "outputs": [
    {
     "name": "stdout",
     "output_type": "stream",
     "text": [
      "\n",
      "Options: 1. Add Transaction  2. Display Ledger  3. Verify Ledger  4. Exit\n"
     ]
    },
    {
     "name": "stdin",
     "output_type": "stream",
     "text": [
      "Enter your choice: dwas\n"
     ]
    },
    {
     "name": "stdout",
     "output_type": "stream",
     "text": [
      "Invalid choice! Please enter a valid option.\n",
      "\n",
      "Options: 1. Add Transaction  2. Display Ledger  3. Verify Ledger  4. Exit\n"
     ]
    }
   ],
   "source": [
    "while True:\n",
    "     print(\"\\nOptions: 1. Add Transaction  2. Display Ledger  3. Verify Ledger  4. Exit\")\n",
    "     choice = input(\"Enter your choice:\")\n",
    "     obj=TransactionLedger()\n",
    "     if choice==\"1\":\n",
    "        sender=input(\"sender name:\")\n",
    "        receiver=input(\"reciver name:\")\n",
    "        amount=float(input(\"amount:\"))\n",
    "        \n",
    "        obj.add_transaction(sender, receiver, amount)\n",
    "     elif choice == \"2\":\n",
    "            ledger.display_ledger()\n",
    "        \n",
    "     elif choice == \"3\":\n",
    "            print(\"Ledger Integrity Verified:\", ledger.verify_chain())\n",
    "        \n",
    "     elif choice == \"4\":\n",
    "            print(\"THANK YOU\")\n",
    "            break\n",
    "        \n",
    "     else:\n",
    "            print(\"Invalid choice! Please enter a valid option.\")\n",
    "        \n",
    "    "
   ]
  },
  {
   "cell_type": "code",
   "execution_count": null,
   "id": "71c9dce3-183f-4f0e-bce6-6c9673214d5c",
   "metadata": {},
   "outputs": [],
   "source": []
  }
 ],
 "metadata": {
  "kernelspec": {
   "display_name": "Python 3 (ipykernel)",
   "language": "python",
   "name": "python3"
  },
  "language_info": {
   "codemirror_mode": {
    "name": "ipython",
    "version": 3
   },
   "file_extension": ".py",
   "mimetype": "text/x-python",
   "name": "python",
   "nbconvert_exporter": "python",
   "pygments_lexer": "ipython3",
   "version": "3.12.7"
  }
 },
 "nbformat": 4,
 "nbformat_minor": 5
}
